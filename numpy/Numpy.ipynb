{
  "cells": [
    {
      "cell_type": "markdown",
      "metadata": {
        "id": "9WB297Ey5ssg"
      },
      "source": [
        "# Numpy\n",
        "\n",
        "- NumPy (short for Numerical Python) provides an efficient interface to store and operate on dense data buffers.\n",
        "- NumPy arrays are like Python’s built-in list type,\n",
        "    - they provide much more efficient storage and data operations as the arrays grow larger in size.\n",
        "- NumPy arrays form the core of nearly the entire ecosystem of data science tools in Python\n"
      ]
    },
    {
      "cell_type": "code",
      "execution_count": 2,
      "metadata": {
        "id": "aGsKAdyW5ssh"
      },
      "outputs": [],
      "source": [
        "import numpy as np"
      ]
    },
    {
      "cell_type": "markdown",
      "metadata": {
        "id": "317ESUmI5ssk"
      },
      "source": [
        "# The NumPy ndarray: A Multidimensional Array Object\n",
        "- N-dimensional array object, or ndarray, which is a fast, flexible container for large data sets\n",
        "- Arrays enable you to perform mathematical operations on whole blocks of data using similar syntax\n",
        "- An ndarray is a generic multidimensional container for homogeneous data\n",
        "  - all of the elements must be the **same type**,\n",
        "  - **shape**, a tuple indicating the size of each dimension,\n",
        "  - **dtype**, an object describing the data type of the array."
      ]
    },
    {
      "cell_type": "markdown",
      "metadata": {
        "id": "lmwxZVo95ssl"
      },
      "source": [
        "## Creating ndarrays\n",
        "- the ***array*** function accepts any sequence-like object (including other arrays) and produces a new NumPy array containing the passed data\n"
      ]
    },
    {
      "cell_type": "code",
      "execution_count": 1,
      "metadata": {
        "id": "NY1Sbutt5ssl"
      },
      "outputs": [
        {
          "data": {
            "text/plain": [
              "[1, 3, 5, 7, 9, 11]"
            ]
          },
          "execution_count": 1,
          "metadata": {},
          "output_type": "execute_result"
        }
      ],
      "source": [
        "data1 = [1, 3, 5, 7, 9, 11]\n",
        "data1"
      ]
    },
    {
      "cell_type": "code",
      "execution_count": null,
      "metadata": {
        "id": "XaSIZIwLCjD2"
      },
      "outputs": [],
      "source": [
        "type(data1)"
      ]
    },
    {
      "cell_type": "code",
      "execution_count": 5,
      "metadata": {
        "id": "bLJafGj45sso"
      },
      "outputs": [
        {
          "data": {
            "text/plain": [
              "array([ 1,  3,  5,  7,  9, 11])"
            ]
          },
          "execution_count": 5,
          "metadata": {},
          "output_type": "execute_result"
        }
      ],
      "source": [
        "arr1 = np.array(data1)\n",
        "arr1"
      ]
    },
    {
      "cell_type": "code",
      "execution_count": 7,
      "metadata": {
        "id": "V0ZI2LaqNjtT"
      },
      "outputs": [
        {
          "data": {
            "text/plain": [
              "(6,)"
            ]
          },
          "execution_count": 7,
          "metadata": {},
          "output_type": "execute_result"
        }
      ],
      "source": [
        "arr1.ndim"
      ]
    },
    {
      "cell_type": "code",
      "execution_count": 8,
      "metadata": {
        "id": "sjFzvo_r5sst"
      },
      "outputs": [
        {
          "data": {
            "text/plain": [
              "[1, 3.7, 5, 7, 9, 11.4]"
            ]
          },
          "execution_count": 8,
          "metadata": {},
          "output_type": "execute_result"
        }
      ],
      "source": [
        "data2 = [1, 3.7, 5, 7, 9, 11.4] \n",
        "data2"
      ]
    },
    {
      "cell_type": "code",
      "execution_count": 10,
      "metadata": {
        "id": "rq3A4_6X5ss1"
      },
      "outputs": [
        {
          "data": {
            "text/plain": [
              "array([ 1. ,  3.7,  5. ,  7. ,  9. , 11.4])"
            ]
          },
          "execution_count": 10,
          "metadata": {},
          "output_type": "execute_result"
        }
      ],
      "source": [
        "arr2 = np.array(data2) #all float because data are homogeneous\n",
        "arr2"
      ]
    },
    {
      "cell_type": "code",
      "execution_count": null,
      "metadata": {
        "id": "YIbBoOm2KBWL"
      },
      "outputs": [],
      "source": [
        "for x in arr2:\n",
        "  print(x)"
      ]
    },
    {
      "cell_type": "markdown",
      "metadata": {},
      "source": [
        "## Element-Wise Operations"
      ]
    },
    {
      "cell_type": "code",
      "execution_count": 11,
      "metadata": {
        "id": "vcuc1zo00dp-"
      },
      "outputs": [
        {
          "data": {
            "text/plain": [
              "array([ 100.,  370.,  500.,  700.,  900., 1140.])"
            ]
          },
          "execution_count": 11,
          "metadata": {},
          "output_type": "execute_result"
        }
      ],
      "source": [
        "arr2 * 100"
      ]
    },
    {
      "cell_type": "code",
      "execution_count": null,
      "metadata": {
        "id": "KbdCgMpM5ss_"
      },
      "outputs": [],
      "source": [
        "arr2 + arr1   # arr1 and arr2 have the same shape"
      ]
    },
    {
      "cell_type": "code",
      "execution_count": null,
      "metadata": {
        "id": "R4ypH-jDw-hG"
      },
      "outputs": [],
      "source": [
        "arr1.shape"
      ]
    },
    {
      "cell_type": "code",
      "execution_count": null,
      "metadata": {
        "id": "I-Rqrt2Dw-UK"
      },
      "outputs": [],
      "source": [
        "arr2.shape"
      ]
    },
    {
      "cell_type": "code",
      "execution_count": 13,
      "metadata": {
        "id": "_enCb-jY0dZR"
      },
      "outputs": [],
      "source": [
        "arr3 = np.array([1, 2])"
      ]
    },
    {
      "cell_type": "code",
      "execution_count": 14,
      "metadata": {
        "id": "mCegowjfY5JO"
      },
      "outputs": [
        {
          "data": {
            "text/plain": [
              "array([ 1,  3,  5,  7,  9, 11])"
            ]
          },
          "execution_count": 14,
          "metadata": {},
          "output_type": "execute_result"
        }
      ],
      "source": [
        "arr1"
      ]
    },
    {
      "cell_type": "code",
      "execution_count": 15,
      "metadata": {
        "id": "3destv2k1F9M"
      },
      "outputs": [
        {
          "ename": "ValueError",
          "evalue": "operands could not be broadcast together with shapes (6,) (2,) ",
          "output_type": "error",
          "traceback": [
            "\u001b[0;31m---------------------------------------------------------------------------\u001b[0m",
            "\u001b[0;31mValueError\u001b[0m                                Traceback (most recent call last)",
            "Cell \u001b[0;32mIn[15], line 1\u001b[0m\n\u001b[0;32m----> 1\u001b[0m \u001b[43marr1\u001b[49m\u001b[43m \u001b[49m\u001b[38;5;241;43m+\u001b[39;49m\u001b[43m \u001b[49m\u001b[43marr3\u001b[49m\n",
            "\u001b[0;31mValueError\u001b[0m: operands could not be broadcast together with shapes (6,) (2,) "
          ]
        }
      ],
      "source": [
        "arr1 + arr3 #doesn't work because operands could not be broadcast together with shapes"
      ]
    },
    {
      "cell_type": "code",
      "execution_count": 17,
      "metadata": {
        "id": "jUTZJYZB5stH"
      },
      "outputs": [],
      "source": [
        "data_2 = [[1, 2, 3], [4, 5, 6], [7, 8, 9]] #list of list"
      ]
    },
    {
      "cell_type": "code",
      "execution_count": null,
      "metadata": {
        "id": "gYxsBIu1x5cW"
      },
      "outputs": [],
      "source": [
        "type(data_2)"
      ]
    },
    {
      "cell_type": "code",
      "execution_count": null,
      "metadata": {
        "id": "Z-NOJQCU2SUa"
      },
      "outputs": [],
      "source": [
        "data_2[1][0]"
      ]
    },
    {
      "cell_type": "code",
      "execution_count": 18,
      "metadata": {
        "id": "G2wTCU7YLX18"
      },
      "outputs": [
        {
          "data": {
            "text/plain": [
              "[[1, 2, 3], [4, 5, 6], [7, 8, 9]]"
            ]
          },
          "execution_count": 18,
          "metadata": {},
          "output_type": "execute_result"
        }
      ],
      "source": [
        "data_2"
      ]
    },
    {
      "cell_type": "code",
      "execution_count": 20,
      "metadata": {
        "id": "0-eBFU1P5stJ"
      },
      "outputs": [],
      "source": [
        "arr_2 = np.array(data_2) \n",
        "arr_2"
      ]
    },
    {
      "cell_type": "code",
      "execution_count": null,
      "metadata": {
        "id": "rA__3sGY5stN"
      },
      "outputs": [],
      "source": [
        "arr_2.ndim"
      ]
    },
    {
      "cell_type": "code",
      "execution_count": null,
      "metadata": {
        "id": "PIqPals15stP"
      },
      "outputs": [],
      "source": [
        "arr_2.shape"
      ]
    },
    {
      "cell_type": "code",
      "execution_count": null,
      "metadata": {
        "id": "ItZsWjAo5stS"
      },
      "outputs": [],
      "source": [
        "arr_3 = np.array([[[1, 2], [3, 4]], [[5, 6], [7, 8]]])\n",
        "arr_3"
      ]
    },
    {
      "cell_type": "code",
      "execution_count": null,
      "metadata": {
        "id": "_okmaFiB5stU"
      },
      "outputs": [],
      "source": [
        "arr_3.shape"
      ]
    },
    {
      "cell_type": "code",
      "execution_count": null,
      "metadata": {
        "id": "nbmAsKrA5stW"
      },
      "outputs": [],
      "source": [
        "arr_3.ndim"
      ]
    },
    {
      "cell_type": "markdown",
      "metadata": {
        "id": "s9m7j1RF5sta"
      },
      "source": [
        "- Other techniques for initializing ndarrays\n",
        "  - ones: arrays fill with value 1.0 (default = float)\n",
        "  - zeros: arrays fill with all 0.0\n",
        "  - empty : arrays fill with random value \n",
        "  - eye: identity matrix"
      ]
    },
    {
      "cell_type": "code",
      "execution_count": null,
      "metadata": {
        "id": "5PVvByym5stb"
      },
      "outputs": [],
      "source": [
        "np.ones(16)"
      ]
    },
    {
      "cell_type": "code",
      "execution_count": null,
      "metadata": {
        "id": "yDh6c8xGaEx8"
      },
      "outputs": [],
      "source": [
        "np.ones((16,2))"
      ]
    },
    {
      "cell_type": "code",
      "execution_count": null,
      "metadata": {
        "id": "DzMQ4cjk5std"
      },
      "outputs": [],
      "source": [
        "np.empty((3, 4))"
      ]
    },
    {
      "cell_type": "code",
      "execution_count": null,
      "metadata": {
        "id": "sfuwOsJu5ste"
      },
      "outputs": [],
      "source": [
        "np.empty((3, 2, 3, 5, 6, 7, 8))"
      ]
    },
    {
      "cell_type": "code",
      "execution_count": null,
      "metadata": {
        "id": "xclyEAq65stg"
      },
      "outputs": [],
      "source": [
        "np.ones((2, 2))"
      ]
    },
    {
      "cell_type": "code",
      "execution_count": null,
      "metadata": {
        "id": "4kgq-VkXlCuN"
      },
      "outputs": [],
      "source": [
        "np.zeros((4, 4, 4))"
      ]
    },
    {
      "cell_type": "code",
      "execution_count": null,
      "metadata": {
        "id": "WS7s4YLY5stj"
      },
      "outputs": [],
      "source": [
        "np.eye(44)"
      ]
    },
    {
      "cell_type": "markdown",
      "metadata": {
        "id": "XSbMAexj5stl"
      },
      "source": [
        "- When constructing an array, you can specify the data type using a string"
      ]
    },
    {
      "cell_type": "code",
      "execution_count": null,
      "metadata": {
        "id": "S3dtK3nt5stl"
      },
      "outputs": [],
      "source": [
        "np.ones(10, dtype='float32')  # Default is numpy.float64"
      ]
    },
    {
      "cell_type": "markdown",
      "metadata": {
        "id": "fGs_RAFk5stn"
      },
      "source": [
        "## Basic array manipulations\n",
        "- Attributes of arrays\n",
        "    - Determining the size, shape, memory consumption, and data types of arrays\n"
      ]
    },
    {
      "cell_type": "code",
      "execution_count": 3,
      "metadata": {
        "id": "j5jOFO195sto"
      },
      "outputs": [],
      "source": [
        "# random.randint(low, high=None, size=None, dtype=int)\n",
        "\n",
        "a1 = np.random.randint(10, size=10)  #one-dimensional array\n",
        "a2 = np.random.randint(10, size=(10, 4)) # two-dimensional array\n",
        "a3 = np.random.randint(10, size=(10, 3, 3)) # three-dimensional array"
      ]
    },
    {
      "cell_type": "code",
      "execution_count": 4,
      "metadata": {
        "id": "nnCqMYpm5f2p"
      },
      "outputs": [
        {
          "data": {
            "text/plain": [
              "array([9, 3, 9, 1, 9, 8, 7, 8, 8, 2])"
            ]
          },
          "execution_count": 4,
          "metadata": {},
          "output_type": "execute_result"
        }
      ],
      "source": [
        "a1"
      ]
    },
    {
      "cell_type": "code",
      "execution_count": null,
      "metadata": {
        "id": "8QA7TdTT5stp"
      },
      "outputs": [],
      "source": [
        "a1.ndim"
      ]
    },
    {
      "cell_type": "code",
      "execution_count": null,
      "metadata": {
        "id": "LC0TGipL5str"
      },
      "outputs": [],
      "source": [
        "a1.shape"
      ]
    },
    {
      "cell_type": "code",
      "execution_count": null,
      "metadata": {
        "id": "IePWwB6a5stt"
      },
      "outputs": [],
      "source": [
        "a2.shape"
      ]
    },
    {
      "cell_type": "code",
      "execution_count": null,
      "metadata": {
        "id": "sXLNmcS65stv"
      },
      "outputs": [],
      "source": [
        "a3.dtype"
      ]
    },
    {
      "cell_type": "code",
      "execution_count": null,
      "metadata": {
        "id": "maunbzVk5stx"
      },
      "outputs": [],
      "source": [
        "a3.itemsize # the size (in bytes) of each array element"
      ]
    },
    {
      "cell_type": "code",
      "execution_count": null,
      "metadata": {
        "id": "ezGsrtg65stz"
      },
      "outputs": [],
      "source": [
        "a3.nbytes # the total size (in bytes) of the array"
      ]
    },
    {
      "cell_type": "markdown",
      "metadata": {
        "id": "HdnHrUkZ5st1"
      },
      "source": [
        "#### Indexing and slicing arrays\n",
        "- Getting and setting the value of individual array elements\n",
        "- Getting and setting smaller subarrays within a larger array"
      ]
    },
    {
      "cell_type": "code",
      "execution_count": 23,
      "metadata": {
        "id": "fj_y7Rmx5st2"
      },
      "outputs": [],
      "source": [
        "# numpy.arange([start, ]stop, [step, ]dtype=None, *, like=None)\n",
        "\n",
        "arr = np.arange(0,10,1)"
      ]
    },
    {
      "cell_type": "code",
      "execution_count": 24,
      "metadata": {
        "id": "Su5lfmHY5st4"
      },
      "outputs": [
        {
          "data": {
            "text/plain": [
              "array([0, 1, 2, 3, 4, 5, 6, 7, 8, 9])"
            ]
          },
          "execution_count": 24,
          "metadata": {},
          "output_type": "execute_result"
        }
      ],
      "source": [
        "arr"
      ]
    },
    {
      "cell_type": "code",
      "execution_count": 26,
      "metadata": {
        "id": "R369R-_N5st6"
      },
      "outputs": [
        {
          "data": {
            "text/plain": [
              "5"
            ]
          },
          "execution_count": 26,
          "metadata": {},
          "output_type": "execute_result"
        }
      ],
      "source": [
        "arr[5]"
      ]
    },
    {
      "cell_type": "code",
      "execution_count": 25,
      "metadata": {
        "id": "1cBRvd7W5st8"
      },
      "outputs": [
        {
          "data": {
            "text/plain": [
              "array([0, 1, 2, 3, 4, 5, 6, 7, 8, 9])"
            ]
          },
          "execution_count": 25,
          "metadata": {},
          "output_type": "execute_result"
        }
      ],
      "source": [
        "arr[:] # start:end(excluded); with empty index slicing return all the value "
      ]
    },
    {
      "cell_type": "code",
      "execution_count": null,
      "metadata": {
        "id": "2zRf0vhze3ED"
      },
      "outputs": [],
      "source": [
        "arr[2:5]"
      ]
    },
    {
      "cell_type": "code",
      "execution_count": 27,
      "metadata": {
        "id": "MEj_1oHc5st-"
      },
      "outputs": [],
      "source": [
        "arr[2:5] =111 #data is not copied, and any modifications to the view will be reflected in the source array"
      ]
    },
    {
      "cell_type": "code",
      "execution_count": 28,
      "metadata": {
        "id": "nNycn1hf5suE"
      },
      "outputs": [
        {
          "data": {
            "text/plain": [
              "array([  0,   1, 111, 111, 111,   5,   6,   7,   8,   9])"
            ]
          },
          "execution_count": 28,
          "metadata": {},
          "output_type": "execute_result"
        }
      ],
      "source": [
        "arr"
      ]
    },
    {
      "cell_type": "code",
      "execution_count": null,
      "metadata": {
        "id": "efb10F2U5suG"
      },
      "outputs": [],
      "source": [
        "lista= [0, 1, 2, 3, 4, 5, 6, 7, 8, 9]"
      ]
    },
    {
      "cell_type": "code",
      "execution_count": null,
      "metadata": {
        "id": "iwvwF_Gq5suI"
      },
      "outputs": [],
      "source": [
        "lista"
      ]
    },
    {
      "cell_type": "code",
      "execution_count": null,
      "metadata": {
        "id": "xnU9Gdmp5suK"
      },
      "outputs": [],
      "source": [
        "lista[2:5]"
      ]
    },
    {
      "cell_type": "code",
      "execution_count": null,
      "metadata": {
        "id": "TsNgkAD05suN"
      },
      "outputs": [],
      "source": [
        "lista[2:5]=111 #doesn't work on list"
      ]
    },
    {
      "cell_type": "code",
      "execution_count": null,
      "metadata": {
        "id": "woA-Lq8VVxXY"
      },
      "outputs": [],
      "source": [
        "lista[2:5]=[111,111,111] #we have to use an iterable\n",
        "lista"
      ]
    },
    {
      "cell_type": "code",
      "execution_count": 33,
      "metadata": {
        "id": "NDwRU9WX5suP"
      },
      "outputs": [],
      "source": [
        "array2D = np.array([[1, 2, 3], [4, 5, 6], [7, 8, 9]])"
      ]
    },
    {
      "cell_type": "code",
      "execution_count": null,
      "metadata": {
        "id": "x7eVplHQ8Ol9"
      },
      "outputs": [],
      "source": [
        "array2D"
      ]
    },
    {
      "cell_type": "code",
      "execution_count": null,
      "metadata": {
        "id": "uetlbSaQ5suS"
      },
      "outputs": [],
      "source": [
        "array2D[2]"
      ]
    },
    {
      "cell_type": "code",
      "execution_count": null,
      "metadata": {
        "id": "Nx5UQdaj5suU"
      },
      "outputs": [],
      "source": [
        "array2D[1,1] # equal to array2D[1][1]"
      ]
    },
    {
      "cell_type": "code",
      "execution_count": null,
      "metadata": {
        "id": "63xckCFM5suW"
      },
      "outputs": [],
      "source": [
        "array2D[1,0]"
      ]
    },
    {
      "cell_type": "code",
      "execution_count": null,
      "metadata": {
        "id": "h9gmglc_5suY"
      },
      "outputs": [],
      "source": [
        "array2D[1][0] = 44"
      ]
    },
    {
      "cell_type": "code",
      "execution_count": null,
      "metadata": {
        "id": "MCGWfhEC5sua"
      },
      "outputs": [],
      "source": [
        "array2D"
      ]
    },
    {
      "cell_type": "code",
      "execution_count": null,
      "metadata": {
        "id": "Js1unP9u5suc"
      },
      "outputs": [],
      "source": [
        "array2D[:, 0:1]"
      ]
    },
    {
      "cell_type": "code",
      "execution_count": null,
      "metadata": {
        "id": "Vy3xPA2g5sue"
      },
      "outputs": [],
      "source": [
        "array2D[2:,1:]"
      ]
    },
    {
      "cell_type": "code",
      "execution_count": null,
      "metadata": {
        "id": "Ixe_1Ltu5suh"
      },
      "outputs": [],
      "source": [
        "array2D[:,1:]"
      ]
    },
    {
      "cell_type": "markdown",
      "metadata": {
        "id": "58P_T-TZ5sum"
      },
      "source": [
        "#### Boolean indexing"
      ]
    },
    {
      "cell_type": "code",
      "execution_count": 29,
      "metadata": {
        "id": "i06gPu5G5suo"
      },
      "outputs": [
        {
          "data": {
            "text/plain": [
              "array([[ 3.85552977e-01,  5.65291461e-01, -7.81091189e-02,\n",
              "         3.00416370e+00, -5.24181623e-02],\n",
              "       [-1.81696424e+00, -1.60722291e+00, -6.99499377e-01,\n",
              "        -7.92573062e-01,  9.86178693e-01],\n",
              "       [ 1.98244725e+00,  4.77788224e-01,  1.21067958e-01,\n",
              "         1.43314464e+00,  3.43596848e-01],\n",
              "       [ 1.60310196e-03, -6.86594093e-01, -1.36070854e+00,\n",
              "         6.70309602e-01, -6.04540988e-01],\n",
              "       [ 4.17199002e-02, -9.05072540e-01, -2.76945890e-01,\n",
              "        -1.63852154e+00,  2.84477556e-01],\n",
              "       [ 6.61370173e-02, -3.38782976e-01,  1.19094295e-01,\n",
              "        -3.59477465e-01, -2.45952757e+00],\n",
              "       [ 1.43222485e+00,  3.83952100e-01, -4.53091766e-01,\n",
              "         1.17581110e+00,  1.17858425e+00]])"
            ]
          },
          "execution_count": 29,
          "metadata": {},
          "output_type": "execute_result"
        }
      ],
      "source": [
        "data = np.random.randn(7,5)\n",
        "data"
      ]
    },
    {
      "cell_type": "code",
      "execution_count": 30,
      "metadata": {
        "id": "FISS9Owcq-PO"
      },
      "outputs": [
        {
          "data": {
            "text/plain": [
              "array([[False, False,  True, False,  True],\n",
              "       [ True,  True,  True,  True, False],\n",
              "       [False, False, False, False, False],\n",
              "       [False,  True,  True, False,  True],\n",
              "       [False,  True,  True,  True, False],\n",
              "       [False,  True, False,  True,  True],\n",
              "       [False, False,  True, False, False]])"
            ]
          },
          "execution_count": 30,
          "metadata": {},
          "output_type": "execute_result"
        }
      ],
      "source": [
        "data < 0 #create new numpy array with the results of condition"
      ]
    },
    {
      "cell_type": "code",
      "execution_count": null,
      "metadata": {
        "id": "ISdef--zSDRZ"
      },
      "outputs": [],
      "source": [
        "data[data <0]=0 #assign value based on some condition\n",
        "data"
      ]
    },
    {
      "cell_type": "code",
      "execution_count": 34,
      "metadata": {
        "id": "GvfF0uW6-WxP"
      },
      "outputs": [
        {
          "data": {
            "text/plain": [
              "array([[1, 2, 3],\n",
              "       [4, 5, 6],\n",
              "       [7, 8, 9]])"
            ]
          },
          "execution_count": 34,
          "metadata": {},
          "output_type": "execute_result"
        }
      ],
      "source": [
        "array2D"
      ]
    },
    {
      "cell_type": "code",
      "execution_count": 35,
      "metadata": {
        "id": "ZdE1I4O5-Wph"
      },
      "outputs": [
        {
          "data": {
            "text/plain": [
              "array([[False, False, False],\n",
              "       [False,  True, False],\n",
              "       [False, False, False]])"
            ]
          },
          "execution_count": 35,
          "metadata": {},
          "output_type": "execute_result"
        }
      ],
      "source": [
        "array2D == 5"
      ]
    },
    {
      "cell_type": "code",
      "execution_count": 37,
      "metadata": {
        "id": "GA6QvDHZ-Wfy"
      },
      "outputs": [
        {
          "data": {
            "text/plain": [
              "array([[1, 2, 3],\n",
              "       [4, 0, 6],\n",
              "       [7, 8, 9]])"
            ]
          },
          "execution_count": 37,
          "metadata": {},
          "output_type": "execute_result"
        }
      ],
      "source": [
        "array2D[array2D == 5]=0\n",
        "array2D"
      ]
    },
    {
      "cell_type": "code",
      "execution_count": null,
      "metadata": {
        "id": "mhX_HEfZdqW0"
      },
      "outputs": [],
      "source": [
        "data"
      ]
    },
    {
      "cell_type": "code",
      "execution_count": null,
      "metadata": {
        "id": "GgDz5aO9eEmq"
      },
      "outputs": [],
      "source": [
        "data.shape\n"
      ]
    },
    {
      "cell_type": "code",
      "execution_count": 39,
      "metadata": {
        "id": "Jvij_7sr5sum"
      },
      "outputs": [],
      "source": [
        "days = np.array(['Mon', \"Tue\", \"Sat\", \"Sat\", \"Thu\", \"Fri\", \"Sat\"]) #numpy array with string "
      ]
    },
    {
      "cell_type": "code",
      "execution_count": 43,
      "metadata": {
        "id": "975HQPox94Rk"
      },
      "outputs": [
        {
          "data": {
            "text/plain": [
              "array(['Mon', 'Tue', 'Sat', 'Sat', 'Thu', 'Fri', 'Sat'], dtype='<U3')"
            ]
          },
          "execution_count": 43,
          "metadata": {},
          "output_type": "execute_result"
        }
      ],
      "source": [
        "days"
      ]
    },
    {
      "cell_type": "code",
      "execution_count": 40,
      "metadata": {
        "id": "Fd1oMDK_5sus"
      },
      "outputs": [
        {
          "data": {
            "text/plain": [
              "array([False, False,  True,  True, False, False,  True])"
            ]
          },
          "execution_count": 40,
          "metadata": {},
          "output_type": "execute_result"
        }
      ],
      "source": [
        "days == \"Sat\""
      ]
    },
    {
      "cell_type": "code",
      "execution_count": null,
      "metadata": {
        "id": "XVJg58XZeA6K"
      },
      "outputs": [],
      "source": [
        "len(days)"
      ]
    },
    {
      "cell_type": "code",
      "execution_count": 41,
      "metadata": {
        "id": "5k4EvF8G5suu"
      },
      "outputs": [
        {
          "data": {
            "text/plain": [
              "array([[ 1.98244725e+00,  4.77788224e-01,  1.21067958e-01,\n",
              "         1.43314464e+00,  3.43596848e-01],\n",
              "       [ 1.60310196e-03, -6.86594093e-01, -1.36070854e+00,\n",
              "         6.70309602e-01, -6.04540988e-01],\n",
              "       [ 1.43222485e+00,  3.83952100e-01, -4.53091766e-01,\n",
              "         1.17581110e+00,  1.17858425e+00]])"
            ]
          },
          "execution_count": 41,
          "metadata": {},
          "output_type": "execute_result"
        }
      ],
      "source": [
        "data[days == \"Sat\"] #select the row of data based on condition on other arrays (only if two arrays have one dimension in common)"
      ]
    },
    {
      "cell_type": "code",
      "execution_count": 42,
      "metadata": {
        "id": "MQxbFU8u5suw"
      },
      "outputs": [
        {
          "data": {
            "text/plain": [
              "array([[ 0.38555298,  0.56529146, -0.07810912,  3.0041637 , -0.05241816]])"
            ]
          },
          "execution_count": 42,
          "metadata": {},
          "output_type": "execute_result"
        }
      ],
      "source": [
        "data[days == \"Mon\"]"
      ]
    },
    {
      "cell_type": "code",
      "execution_count": null,
      "metadata": {
        "id": "IdsiRW225suy"
      },
      "outputs": [],
      "source": [
        "data[days != \"Mon\"]"
      ]
    },
    {
      "cell_type": "code",
      "execution_count": null,
      "metadata": {
        "id": "XYpu8Lmj5su0"
      },
      "outputs": [],
      "source": [
        "data[~(days == \"Mon\")] # tilde mean different"
      ]
    },
    {
      "cell_type": "code",
      "execution_count": 44,
      "metadata": {
        "id": "Op7pAqNM5su2"
      },
      "outputs": [
        {
          "data": {
            "text/plain": [
              "array([[ 3.85552977e-01,  5.65291461e-01, -7.81091189e-02,\n",
              "         3.00416370e+00, -5.24181623e-02],\n",
              "       [ 1.98244725e+00,  4.77788224e-01,  1.21067958e-01,\n",
              "         1.43314464e+00,  3.43596848e-01],\n",
              "       [ 1.60310196e-03, -6.86594093e-01, -1.36070854e+00,\n",
              "         6.70309602e-01, -6.04540988e-01],\n",
              "       [ 1.43222485e+00,  3.83952100e-01, -4.53091766e-01,\n",
              "         1.17581110e+00,  1.17858425e+00]])"
            ]
          },
          "execution_count": 44,
          "metadata": {},
          "output_type": "execute_result"
        }
      ],
      "source": [
        "data[(days==\"Mon\") | (days==\"Sat\")]"
      ]
    },
    {
      "cell_type": "code",
      "execution_count": null,
      "metadata": {
        "id": "ank-bKlI5su4"
      },
      "outputs": [],
      "source": [
        "data[data<=1]"
      ]
    },
    {
      "cell_type": "code",
      "execution_count": null,
      "metadata": {
        "id": "sXDlnExUh8C0"
      },
      "outputs": [],
      "source": [
        "data"
      ]
    },
    {
      "cell_type": "markdown",
      "metadata": {
        "id": "mz79pm9z5su8"
      },
      "source": [
        "#### Fancy Indexing\n",
        "- Fancy indexing is a term adopted by NumPy to describe indexing using integer arrays.\n",
        "- To select out a subset of the rows in a particular order, you can simply pass a list or ndarray of integers specifying the desired order"
      ]
    },
    {
      "cell_type": "code",
      "execution_count": 46,
      "metadata": {
        "id": "DI_gNOpe5su8"
      },
      "outputs": [],
      "source": [
        "arr = np.empty((10, 6))"
      ]
    },
    {
      "cell_type": "code",
      "execution_count": null,
      "metadata": {
        "id": "amYcEffU5su-"
      },
      "outputs": [],
      "source": [
        "for i in range(10):\n",
        "    arr[i] = i"
      ]
    },
    {
      "cell_type": "code",
      "execution_count": null,
      "metadata": {
        "id": "sERhphvs5su_"
      },
      "outputs": [],
      "source": [
        "arr"
      ]
    },
    {
      "cell_type": "code",
      "execution_count": null,
      "metadata": {
        "id": "pc6KwbGW5svB"
      },
      "outputs": [],
      "source": [
        "arr[[2,1,4]]"
      ]
    },
    {
      "cell_type": "code",
      "execution_count": 47,
      "metadata": {
        "id": "APX-7Y6I5svE"
      },
      "outputs": [
        {
          "data": {
            "text/plain": [
              "array([[6.37576906e-310, 2.13930425e-321, 6.37576948e-310,\n",
              "        6.37576948e-310, 6.37576906e-310, 6.37576902e-310],\n",
              "       [6.37576897e-310, 6.37576896e-310, 6.37576896e-310,\n",
              "        6.37576896e-310, 6.37576897e-310, 6.37576897e-310],\n",
              "       [6.37576897e-310, 6.37576896e-310, 6.37576897e-310,\n",
              "        6.37576896e-310, 6.37576897e-310, 6.37576897e-310],\n",
              "       [6.37576971e-310, 6.37576904e-310, 6.37576906e-310,\n",
              "        6.37576904e-310, 6.37576973e-310, 6.37576896e-310],\n",
              "       [6.37576897e-310, 6.37576896e-310, 6.37576897e-310,\n",
              "        6.37576902e-310, 6.37576909e-310, 6.37576898e-310],\n",
              "       [6.37576897e-310, 6.37576896e-310, 6.37576897e-310,\n",
              "        6.37576902e-310, 6.37576909e-310, 6.37576898e-310],\n",
              "       [6.37576898e-310, 6.37576902e-310, 6.37576974e-310,\n",
              "        6.37576898e-310, 6.37576898e-310, 6.37576898e-310]])"
            ]
          },
          "execution_count": 47,
          "metadata": {},
          "output_type": "execute_result"
        }
      ],
      "source": [
        "arr[np.array([1,5,4,3,6,6,7])]"
      ]
    },
    {
      "cell_type": "markdown",
      "metadata": {
        "id": "5B1fj3EF5svG"
      },
      "source": [
        "#### Reshaping of arrays\n",
        "- Changing the shape of a given array\n"
      ]
    },
    {
      "cell_type": "code",
      "execution_count": 48,
      "metadata": {
        "id": "BUZYf5SS5svG"
      },
      "outputs": [
        {
          "data": {
            "text/plain": [
              "(10, 6)"
            ]
          },
          "execution_count": 48,
          "metadata": {},
          "output_type": "execute_result"
        }
      ],
      "source": [
        "arr.shape"
      ]
    },
    {
      "cell_type": "code",
      "execution_count": 49,
      "metadata": {
        "id": "QTCWlvhp5svI"
      },
      "outputs": [
        {
          "data": {
            "text/plain": [
              "array([[5.30306612e-310, 0.00000000e+000, 6.37576917e-310,\n",
              "        6.37576906e-310, 6.37576907e-310, 6.37576906e-310],\n",
              "       [6.37576906e-310, 2.13930425e-321, 6.37576948e-310,\n",
              "        6.37576948e-310, 6.37576906e-310, 6.37576902e-310],\n",
              "       [6.37576906e-310, 6.37576905e-310, 6.37576896e-310,\n",
              "        6.37576905e-310, 6.37576906e-310, 6.37576906e-310],\n",
              "       [6.37576971e-310, 6.37576904e-310, 6.37576906e-310,\n",
              "        6.37576904e-310, 6.37576973e-310, 6.37576896e-310],\n",
              "       [6.37576897e-310, 6.37576896e-310, 6.37576897e-310,\n",
              "        6.37576896e-310, 6.37576897e-310, 6.37576897e-310],\n",
              "       [6.37576897e-310, 6.37576896e-310, 6.37576896e-310,\n",
              "        6.37576896e-310, 6.37576897e-310, 6.37576897e-310],\n",
              "       [6.37576897e-310, 6.37576896e-310, 6.37576897e-310,\n",
              "        6.37576902e-310, 6.37576909e-310, 6.37576898e-310],\n",
              "       [6.37576898e-310, 6.37576902e-310, 6.37576974e-310,\n",
              "        6.37576898e-310, 6.37576898e-310, 6.37576898e-310],\n",
              "       [6.37576898e-310, 6.37576898e-310, 6.37576899e-310,\n",
              "        6.37576898e-310, 6.37576898e-310, 6.37576898e-310],\n",
              "       [6.37576898e-310, 6.37576898e-310, 6.37576899e-310,\n",
              "        6.37576899e-310, 6.37576910e-310, 6.37576898e-310]])"
            ]
          },
          "execution_count": 49,
          "metadata": {},
          "output_type": "execute_result"
        }
      ],
      "source": [
        "arr"
      ]
    },
    {
      "cell_type": "code",
      "execution_count": 50,
      "metadata": {
        "id": "9iXS4_l-TRAY"
      },
      "outputs": [
        {
          "data": {
            "text/plain": [
              "array([[5.30306612e-310, 0.00000000e+000, 6.37576917e-310,\n",
              "        6.37576906e-310, 6.37576907e-310, 6.37576906e-310,\n",
              "        6.37576906e-310, 2.13930425e-321, 6.37576948e-310,\n",
              "        6.37576948e-310, 6.37576906e-310, 6.37576902e-310],\n",
              "       [6.37576906e-310, 6.37576905e-310, 6.37576896e-310,\n",
              "        6.37576905e-310, 6.37576906e-310, 6.37576906e-310,\n",
              "        6.37576971e-310, 6.37576904e-310, 6.37576906e-310,\n",
              "        6.37576904e-310, 6.37576973e-310, 6.37576896e-310],\n",
              "       [6.37576897e-310, 6.37576896e-310, 6.37576897e-310,\n",
              "        6.37576896e-310, 6.37576897e-310, 6.37576897e-310,\n",
              "        6.37576897e-310, 6.37576896e-310, 6.37576896e-310,\n",
              "        6.37576896e-310, 6.37576897e-310, 6.37576897e-310],\n",
              "       [6.37576897e-310, 6.37576896e-310, 6.37576897e-310,\n",
              "        6.37576902e-310, 6.37576909e-310, 6.37576898e-310,\n",
              "        6.37576898e-310, 6.37576902e-310, 6.37576974e-310,\n",
              "        6.37576898e-310, 6.37576898e-310, 6.37576898e-310],\n",
              "       [6.37576898e-310, 6.37576898e-310, 6.37576899e-310,\n",
              "        6.37576898e-310, 6.37576898e-310, 6.37576898e-310,\n",
              "        6.37576898e-310, 6.37576898e-310, 6.37576899e-310,\n",
              "        6.37576899e-310, 6.37576910e-310, 6.37576898e-310]])"
            ]
          },
          "execution_count": 50,
          "metadata": {},
          "output_type": "execute_result"
        }
      ],
      "source": [
        "arr.reshape((5,12))"
      ]
    },
    {
      "cell_type": "code",
      "execution_count": 51,
      "metadata": {
        "id": "P_BS7-6AjfB3"
      },
      "outputs": [
        {
          "ename": "ValueError",
          "evalue": "cannot reshape array of size 60 into shape (5,10)",
          "output_type": "error",
          "traceback": [
            "\u001b[0;31m---------------------------------------------------------------------------\u001b[0m",
            "\u001b[0;31mValueError\u001b[0m                                Traceback (most recent call last)",
            "Cell \u001b[0;32mIn[51], line 1\u001b[0m\n\u001b[0;32m----> 1\u001b[0m \u001b[43marr\u001b[49m\u001b[38;5;241;43m.\u001b[39;49m\u001b[43mreshape\u001b[49m\u001b[43m(\u001b[49m\u001b[43m(\u001b[49m\u001b[38;5;241;43m5\u001b[39;49m\u001b[43m,\u001b[49m\u001b[38;5;241;43m10\u001b[39;49m\u001b[43m)\u001b[49m\u001b[43m)\u001b[49m\n",
            "\u001b[0;31mValueError\u001b[0m: cannot reshape array of size 60 into shape (5,10)"
          ]
        }
      ],
      "source": [
        "arr.reshape((5,10)) #doesn't work because the number of elements must be the same"
      ]
    },
    {
      "cell_type": "code",
      "execution_count": null,
      "metadata": {
        "id": "2Nez_mn35svJ"
      },
      "outputs": [],
      "source": [
        "arr.reshape((-1,15)) # -1 mean derive from number of column the number of the row to contain all the elements"
      ]
    },
    {
      "cell_type": "code",
      "execution_count": 52,
      "metadata": {
        "id": "anP5wA7L5svL"
      },
      "outputs": [
        {
          "data": {
            "text/plain": [
              "array([[[5.30306612e-310, 0.00000000e+000, 6.37576917e-310,\n",
              "         6.37576906e-310, 6.37576907e-310, 6.37576906e-310,\n",
              "         6.37576906e-310, 2.13930425e-321, 6.37576948e-310,\n",
              "         6.37576948e-310],\n",
              "        [6.37576906e-310, 6.37576902e-310, 6.37576906e-310,\n",
              "         6.37576905e-310, 6.37576896e-310, 6.37576905e-310,\n",
              "         6.37576906e-310, 6.37576906e-310, 6.37576971e-310,\n",
              "         6.37576904e-310]],\n",
              "\n",
              "       [[6.37576906e-310, 6.37576904e-310, 6.37576973e-310,\n",
              "         6.37576896e-310, 6.37576897e-310, 6.37576896e-310,\n",
              "         6.37576897e-310, 6.37576896e-310, 6.37576897e-310,\n",
              "         6.37576897e-310],\n",
              "        [6.37576897e-310, 6.37576896e-310, 6.37576896e-310,\n",
              "         6.37576896e-310, 6.37576897e-310, 6.37576897e-310,\n",
              "         6.37576897e-310, 6.37576896e-310, 6.37576897e-310,\n",
              "         6.37576902e-310]],\n",
              "\n",
              "       [[6.37576909e-310, 6.37576898e-310, 6.37576898e-310,\n",
              "         6.37576902e-310, 6.37576974e-310, 6.37576898e-310,\n",
              "         6.37576898e-310, 6.37576898e-310, 6.37576898e-310,\n",
              "         6.37576898e-310],\n",
              "        [6.37576899e-310, 6.37576898e-310, 6.37576898e-310,\n",
              "         6.37576898e-310, 6.37576898e-310, 6.37576898e-310,\n",
              "         6.37576899e-310, 6.37576899e-310, 6.37576910e-310,\n",
              "         6.37576898e-310]]])"
            ]
          },
          "execution_count": 52,
          "metadata": {},
          "output_type": "execute_result"
        }
      ],
      "source": [
        "arr.reshape((3,2,10))"
      ]
    },
    {
      "cell_type": "markdown",
      "metadata": {
        "id": "O4hMRPpG5svN"
      },
      "source": [
        "#### Change the data type of an array."
      ]
    },
    {
      "cell_type": "code",
      "execution_count": null,
      "metadata": {
        "id": "xEEB7T8Z5svN"
      },
      "outputs": [],
      "source": [
        "x = np.array([[2, 4, 6], [6, 8, 10]], np.int32)"
      ]
    },
    {
      "cell_type": "code",
      "execution_count": null,
      "metadata": {
        "id": "qPIWjgWZ5svO"
      },
      "outputs": [],
      "source": [
        "y= x.astype(float)"
      ]
    },
    {
      "cell_type": "code",
      "execution_count": null,
      "metadata": {
        "id": "axe6O0yI5svQ"
      },
      "outputs": [],
      "source": [
        "y"
      ]
    },
    {
      "cell_type": "markdown",
      "metadata": {
        "id": "BcdwPmji5svR"
      },
      "source": [
        "#### Joining and splitting of arrays\n",
        "- Combining multiple arrays into one, and splitting one array into many\n",
        "  - np.concatenate takes a tuple or list of arrays as its first argument"
      ]
    },
    {
      "cell_type": "code",
      "execution_count": 53,
      "metadata": {
        "id": "Dz0HMllo5svS"
      },
      "outputs": [],
      "source": [
        "x = np.array([1,2,3,4,5])\n",
        "y = np.array([6,7,8,9,10])"
      ]
    },
    {
      "cell_type": "code",
      "execution_count": null,
      "metadata": {
        "id": "TO6QIv9z_veZ"
      },
      "outputs": [],
      "source": [
        "x"
      ]
    },
    {
      "cell_type": "code",
      "execution_count": null,
      "metadata": {
        "id": "VTDDukI9PjE6"
      },
      "outputs": [],
      "source": [
        "x.ndim"
      ]
    },
    {
      "cell_type": "code",
      "execution_count": null,
      "metadata": {
        "id": "6fL_Vtm4Pl3d"
      },
      "outputs": [],
      "source": [
        "x.shape"
      ]
    },
    {
      "cell_type": "code",
      "execution_count": null,
      "metadata": {
        "id": "g6YM4czM_w2b"
      },
      "outputs": [],
      "source": [
        "y"
      ]
    },
    {
      "cell_type": "code",
      "execution_count": 54,
      "metadata": {
        "id": "KN7PngfW5svT"
      },
      "outputs": [
        {
          "data": {
            "text/plain": [
              "array([ 1,  2,  3,  4,  5,  6,  7,  8,  9, 10])"
            ]
          },
          "execution_count": 54,
          "metadata": {},
          "output_type": "execute_result"
        }
      ],
      "source": [
        "np.concatenate([x,y])"
      ]
    },
    {
      "cell_type": "code",
      "execution_count": 55,
      "metadata": {
        "id": "mAWAzrPWUJ-g"
      },
      "outputs": [
        {
          "ename": "AxisError",
          "evalue": "axis 1 is out of bounds for array of dimension 1",
          "output_type": "error",
          "traceback": [
            "\u001b[0;31m---------------------------------------------------------------------------\u001b[0m",
            "\u001b[0;31mAxisError\u001b[0m                                 Traceback (most recent call last)",
            "Cell \u001b[0;32mIn[55], line 1\u001b[0m\n\u001b[0;32m----> 1\u001b[0m \u001b[43mnp\u001b[49m\u001b[38;5;241;43m.\u001b[39;49m\u001b[43mconcatenate\u001b[49m\u001b[43m(\u001b[49m\u001b[43m[\u001b[49m\u001b[43mx\u001b[49m\u001b[43m,\u001b[49m\u001b[43my\u001b[49m\u001b[43m]\u001b[49m\u001b[43m,\u001b[49m\u001b[43maxis\u001b[49m\u001b[38;5;241;43m=\u001b[39;49m\u001b[38;5;241;43m1\u001b[39;49m\u001b[43m)\u001b[49m\n",
            "\u001b[0;31mAxisError\u001b[0m: axis 1 is out of bounds for array of dimension 1"
          ]
        }
      ],
      "source": [
        "np.concatenate([x,y],axis=1) #doesn't work because x and y are mono-dimensional array"
      ]
    },
    {
      "cell_type": "code",
      "execution_count": 56,
      "metadata": {
        "id": "_DtPpmBqWhLx"
      },
      "outputs": [],
      "source": [
        "xR=x.reshape(1,-1)\n",
        "yR=y.reshape(1,-1)"
      ]
    },
    {
      "cell_type": "code",
      "execution_count": 57,
      "metadata": {
        "id": "-l00LSPoQg0q"
      },
      "outputs": [
        {
          "data": {
            "text/plain": [
              "array([[1, 2, 3, 4, 5]])"
            ]
          },
          "execution_count": 57,
          "metadata": {},
          "output_type": "execute_result"
        }
      ],
      "source": [
        "xR"
      ]
    },
    {
      "cell_type": "code",
      "execution_count": 58,
      "metadata": {
        "id": "xpnArCaTQjqO"
      },
      "outputs": [
        {
          "data": {
            "text/plain": [
              "2"
            ]
          },
          "execution_count": 58,
          "metadata": {},
          "output_type": "execute_result"
        }
      ],
      "source": [
        "xR.ndim"
      ]
    },
    {
      "cell_type": "code",
      "execution_count": 59,
      "metadata": {
        "id": "w9m4XoTTQmcM"
      },
      "outputs": [
        {
          "data": {
            "text/plain": [
              "(1, 5)"
            ]
          },
          "execution_count": 59,
          "metadata": {},
          "output_type": "execute_result"
        }
      ],
      "source": [
        "xR.shape"
      ]
    },
    {
      "cell_type": "code",
      "execution_count": 60,
      "metadata": {
        "id": "JnKtp7PnWg2N"
      },
      "outputs": [
        {
          "data": {
            "text/plain": [
              "array([[ 1,  2,  3,  4,  5],\n",
              "       [ 6,  7,  8,  9, 10]])"
            ]
          },
          "execution_count": 60,
          "metadata": {},
          "output_type": "execute_result"
        }
      ],
      "source": [
        "np.concatenate([xR,yR])"
      ]
    },
    {
      "cell_type": "code",
      "execution_count": 64,
      "metadata": {
        "id": "pTzOn_-UmseG"
      },
      "outputs": [
        {
          "data": {
            "text/plain": [
              "array([[ 1,  2,  3,  4,  5],\n",
              "       [ 6,  7,  8,  9, 10]])"
            ]
          },
          "execution_count": 64,
          "metadata": {},
          "output_type": "execute_result"
        }
      ],
      "source": [
        "np.concatenate([xR,yR], axis=0) #now it works"
      ]
    },
    {
      "cell_type": "code",
      "execution_count": 62,
      "metadata": {
        "id": "CWu5oHJK5svU"
      },
      "outputs": [
        {
          "data": {
            "text/plain": [
              "array([ 1,  2,  3,  4,  5,  6,  7,  8,  9, 10,  1,  2,  3,  4,  5,  1,  2,\n",
              "        3,  4,  5,  6,  7,  8,  9, 10,  1,  2,  3,  4,  5,  6,  7,  8,  9,\n",
              "       10,  1,  2,  3,  4,  5,  6,  7,  8,  9, 10,  1,  2,  3,  4,  5,  6,\n",
              "        7,  8,  9, 10])"
            ]
          },
          "execution_count": 62,
          "metadata": {},
          "output_type": "execute_result"
        }
      ],
      "source": [
        "np.concatenate([x,y,x,x,y,x,y,x,y,x,y])"
      ]
    },
    {
      "cell_type": "code",
      "execution_count": null,
      "metadata": {
        "id": "_sb_0MYk5svW"
      },
      "outputs": [],
      "source": [
        "arrSmall = np.array([[1,2,3],[4,5,6]])"
      ]
    },
    {
      "cell_type": "code",
      "execution_count": null,
      "metadata": {
        "id": "_boZDMJb5sva"
      },
      "outputs": [],
      "source": [
        "arrSmall"
      ]
    },
    {
      "cell_type": "code",
      "execution_count": null,
      "metadata": {
        "id": "Kp7Nt2W85svd"
      },
      "outputs": [],
      "source": [
        "np.concatenate([arrSmall,arrSmall], axis=1)"
      ]
    },
    {
      "cell_type": "markdown",
      "metadata": {
        "id": "nh_ucUJq5svf"
      },
      "source": [
        "- For working with arrays of mixed dimensions, it can be clearer to use the np.vstack (vertical stack) and np.hstack (horizontal stack) functions\n"
      ]
    },
    {
      "cell_type": "code",
      "execution_count": 1,
      "metadata": {
        "id": "8uQCtotb5svg"
      },
      "outputs": [
        {
          "ename": "NameError",
          "evalue": "name 'np' is not defined",
          "output_type": "error",
          "traceback": [
            "\u001b[0;31m---------------------------------------------------------------------------\u001b[0m",
            "\u001b[0;31mNameError\u001b[0m                                 Traceback (most recent call last)",
            "Cell \u001b[0;32mIn[1], line 1\u001b[0m\n\u001b[0;32m----> 1\u001b[0m x \u001b[38;5;241m=\u001b[39m \u001b[43mnp\u001b[49m\u001b[38;5;241m.\u001b[39marray([\u001b[38;5;241m1\u001b[39m,\u001b[38;5;241m2\u001b[39m,\u001b[38;5;241m3\u001b[39m])\n\u001b[1;32m      2\u001b[0m y \u001b[38;5;241m=\u001b[39m np\u001b[38;5;241m.\u001b[39marray([[\u001b[38;5;241m4\u001b[39m,\u001b[38;5;241m5\u001b[39m,\u001b[38;5;241m6\u001b[39m],[\u001b[38;5;241m7\u001b[39m,\u001b[38;5;241m8\u001b[39m,\u001b[38;5;241m9\u001b[39m]])\n",
            "\u001b[0;31mNameError\u001b[0m: name 'np' is not defined"
          ]
        }
      ],
      "source": [
        "x = np.array([1,2,3])\n",
        "y = np.array([[4,5,6],[7,8,9]])"
      ]
    },
    {
      "cell_type": "code",
      "execution_count": null,
      "metadata": {
        "id": "StyxjQwMRgvH"
      },
      "outputs": [],
      "source": [
        "x"
      ]
    },
    {
      "cell_type": "code",
      "execution_count": 68,
      "metadata": {
        "id": "IiLSWF1dn-tT"
      },
      "outputs": [
        {
          "data": {
            "text/plain": [
              "array([[4, 5, 6],\n",
              "       [7, 8, 9]])"
            ]
          },
          "execution_count": 68,
          "metadata": {},
          "output_type": "execute_result"
        }
      ],
      "source": [
        "y"
      ]
    },
    {
      "cell_type": "code",
      "execution_count": 66,
      "metadata": {
        "id": "3Woc5Oc45svh"
      },
      "outputs": [
        {
          "data": {
            "text/plain": [
              "array([[1, 2, 3],\n",
              "       [4, 5, 6],\n",
              "       [7, 8, 9]])"
            ]
          },
          "execution_count": 66,
          "metadata": {},
          "output_type": "execute_result"
        }
      ],
      "source": [
        "np.vstack([x,y]) #vertical concatenation"
      ]
    },
    {
      "cell_type": "code",
      "execution_count": 67,
      "metadata": {
        "id": "NVMD5hHv5svj"
      },
      "outputs": [
        {
          "data": {
            "text/plain": [
              "array([[4, 5, 6, 4, 5, 6],\n",
              "       [7, 8, 9, 7, 8, 9]])"
            ]
          },
          "execution_count": 67,
          "metadata": {},
          "output_type": "execute_result"
        }
      ],
      "source": [
        "np.hstack([y,y]) #horizontal concatenation"
      ]
    },
    {
      "cell_type": "code",
      "execution_count": 75,
      "metadata": {
        "id": "Yhk360JA5svk"
      },
      "outputs": [
        {
          "data": {
            "text/plain": [
              "array([1, 2, 3, 1, 2, 3, 1, 2, 3, 1, 2, 3])"
            ]
          },
          "execution_count": 75,
          "metadata": {},
          "output_type": "execute_result"
        }
      ],
      "source": [
        "x = np.hstack([x,x,x,x])\n",
        "x"
      ]
    },
    {
      "cell_type": "markdown",
      "metadata": {
        "id": "o5g6MXbBnjn8"
      },
      "source": [
        "- The opposite of concatenation is splitting, which is implemented by the functions np.split\n"
      ]
    },
    {
      "cell_type": "code",
      "execution_count": 76,
      "metadata": {
        "id": "0agZX5wi5svn"
      },
      "outputs": [
        {
          "data": {
            "text/plain": [
              "[array([1, 2, 3]), array([1, 2, 3]), array([1]), array([2, 3, 1, 2, 3])]"
            ]
          },
          "execution_count": 76,
          "metadata": {},
          "output_type": "execute_result"
        }
      ],
      "source": [
        "np.split(x,[3,6,7]) #the second parameter is the index where split array"
      ]
    },
    {
      "cell_type": "code",
      "execution_count": null,
      "metadata": {
        "id": "nhivqQg0U9qy"
      },
      "outputs": [],
      "source": [
        "y"
      ]
    },
    {
      "cell_type": "code",
      "execution_count": null,
      "metadata": {
        "id": "c5BptJ0Q5svp"
      },
      "outputs": [],
      "source": [
        "z,k = np.split(y,[2])"
      ]
    },
    {
      "cell_type": "code",
      "execution_count": null,
      "metadata": {
        "id": "MWkH_EeQ5svr"
      },
      "outputs": [],
      "source": [
        "z"
      ]
    },
    {
      "cell_type": "code",
      "execution_count": null,
      "metadata": {
        "id": "loNYonjZ5svs"
      },
      "outputs": [],
      "source": [
        "k"
      ]
    },
    {
      "cell_type": "markdown",
      "metadata": {
        "id": "ehZjuI1-5svt"
      },
      "source": [
        "## Computation on NumPy Arrays:\n",
        "\n"
      ]
    },
    {
      "cell_type": "markdown",
      "metadata": {
        "id": "uB6xrirK5svt"
      },
      "source": [
        "- Any arithmetic operations between equal-size arrays applies the operation elementwise\n",
        "- Arithmetic operations with scalars are propagating the value to each element"
      ]
    },
    {
      "cell_type": "code",
      "execution_count": 77,
      "metadata": {
        "id": "nZjoJPZ05svu"
      },
      "outputs": [],
      "source": [
        "arr1 = np.random.randint(10,size= (10,10))\n",
        "arr2 = np.random.randint(10,size= (10,10))"
      ]
    },
    {
      "cell_type": "code",
      "execution_count": 78,
      "metadata": {
        "id": "NWENkt6q5svv"
      },
      "outputs": [
        {
          "data": {
            "text/plain": [
              "array([[1, 5, 9, 8, 8, 1, 4, 7, 7, 3],\n",
              "       [8, 3, 1, 7, 7, 5, 7, 7, 9, 9],\n",
              "       [5, 2, 8, 1, 4, 3, 5, 0, 1, 7],\n",
              "       [5, 3, 5, 5, 0, 7, 1, 3, 1, 2],\n",
              "       [7, 5, 5, 1, 4, 4, 1, 0, 7, 2],\n",
              "       [9, 6, 0, 2, 5, 6, 7, 6, 5, 8],\n",
              "       [7, 6, 9, 1, 8, 2, 8, 2, 5, 6],\n",
              "       [7, 5, 7, 2, 9, 7, 6, 0, 0, 8],\n",
              "       [9, 5, 8, 8, 7, 4, 0, 1, 5, 0],\n",
              "       [4, 1, 5, 6, 1, 0, 5, 1, 2, 7]])"
            ]
          },
          "execution_count": 78,
          "metadata": {},
          "output_type": "execute_result"
        }
      ],
      "source": [
        "arr1"
      ]
    },
    {
      "cell_type": "code",
      "execution_count": 79,
      "metadata": {
        "id": "CpWFvycX5svw"
      },
      "outputs": [
        {
          "data": {
            "text/plain": [
              "array([[ 125,  625, 1125, 1000, 1000,  125,  500,  875,  875,  375],\n",
              "       [1000,  375,  125,  875,  875,  625,  875,  875, 1125, 1125],\n",
              "       [ 625,  250, 1000,  125,  500,  375,  625,    0,  125,  875],\n",
              "       [ 625,  375,  625,  625,    0,  875,  125,  375,  125,  250],\n",
              "       [ 875,  625,  625,  125,  500,  500,  125,    0,  875,  250],\n",
              "       [1125,  750,    0,  250,  625,  750,  875,  750,  625, 1000],\n",
              "       [ 875,  750, 1125,  125, 1000,  250, 1000,  250,  625,  750],\n",
              "       [ 875,  625,  875,  250, 1125,  875,  750,    0,    0, 1000],\n",
              "       [1125,  625, 1000, 1000,  875,  500,    0,  125,  625,    0],\n",
              "       [ 500,  125,  625,  750,  125,    0,  625,  125,  250,  875]])"
            ]
          },
          "execution_count": 79,
          "metadata": {},
          "output_type": "execute_result"
        }
      ],
      "source": [
        "arr1 * 125"
      ]
    },
    {
      "cell_type": "code",
      "execution_count": 80,
      "metadata": {
        "id": "iN_3WGBE5sv2"
      },
      "outputs": [
        {
          "data": {
            "text/plain": [
              "array([[ 7, 12, 15, 11, 13,  7,  7, 13, 14,  9],\n",
              "       [15, 10, 10, 14,  7,  6, 14,  9, 18, 16],\n",
              "       [14,  3, 15,  5, 13,  7, 12,  6,  3, 12],\n",
              "       [ 8,  9,  6, 11,  4, 16,  8,  4,  8,  9],\n",
              "       [14,  5, 14,  4,  5, 12,  7,  0, 12,  2],\n",
              "       [12, 12,  1,  2,  7,  9, 16,  6,  6, 17],\n",
              "       [16, 12, 18,  4,  9,  8, 17,  3, 11, 12],\n",
              "       [14,  5,  7,  9, 15,  8, 15,  3,  2, 16],\n",
              "       [18,  9, 10, 12, 13,  7,  7,  5,  6,  3],\n",
              "       [12,  3,  5,  8,  5,  8,  8,  1, 11, 10]])"
            ]
          },
          "execution_count": 80,
          "metadata": {},
          "output_type": "execute_result"
        }
      ],
      "source": [
        "arr1 + arr2 #only if arrays have the same shape"
      ]
    },
    {
      "cell_type": "code",
      "execution_count": 81,
      "metadata": {
        "id": "lG0GuWsF5sv3"
      },
      "outputs": [
        {
          "data": {
            "text/plain": [
              "array([[ 5.85714286, 34.375     , 52.71428571, 22.        , 38.66666667,\n",
              "         5.85714286, 11.        , 41.        , 48.125     , 17.57142857],\n",
              "       [55.        , 20.625     ,  8.9       , 48.125     , -7.        ,\n",
              "         2.5       , 48.125     , 11.66666667, 80.1       , 61.875     ],\n",
              "       [44.5       ,  1.        , 55.        ,  3.8       , 35.6       ,\n",
              "        11.4       , 34.375     ,  0.        ,  1.66666667, 33.83333333],\n",
              "       [13.75      , 17.57142857,  2.5       , 29.28571429,  0.        ,\n",
              "        62.3       ,  6.875     ,  1.5       ,  6.875     , 13.75      ],\n",
              "       [48.125     , -5.        , 44.5       ,  2.75      ,  2.        ,\n",
              "        31.55555556,  5.85714286,  0.        , 33.83333333, -2.        ],\n",
              "       [24.75      , 35.14285714,  0.        , -2.        ,  8.33333333,\n",
              "        16.5       , 62.3       , -6.        ,  2.5       , 71.2       ],\n",
              "       [62.3       , 35.14285714, 80.1       ,  2.75      ,  4.        ,\n",
              "        11.71428571, 71.2       ,  1.        , 29.28571429, 35.14285714],\n",
              "       [48.125     , -5.        , -7.        , 13.75      , 52.71428571,\n",
              "         3.5       , 53.4       ,  0.        ,  0.        , 63.11111111],\n",
              "       [80.1       , 19.        , 13.33333333, 30.4       , 41.        ,\n",
              "        11.        ,  0.        ,  3.8       ,  2.5       ,  0.        ],\n",
              "       [31.55555556,  1.66666667, -5.        , 10.        ,  3.8       ,\n",
              "         0.        , 13.75      , -1.        , 17.8       , 19.25      ]])"
            ]
          },
          "execution_count": 81,
          "metadata": {},
          "output_type": "execute_result"
        }
      ],
      "source": [
        "arr1 * arr2 - arr1 / ( arr2 +1)"
      ]
    },
    {
      "cell_type": "markdown",
      "metadata": {
        "id": "BQt16Gmz5sv4"
      },
      "source": [
        "- Transposing Arrays and inner matrix product"
      ]
    },
    {
      "cell_type": "code",
      "execution_count": 82,
      "metadata": {
        "id": "GMP_1GmM5sv4"
      },
      "outputs": [
        {
          "data": {
            "text/plain": [
              "array([[1, 5, 9, 8, 8, 1, 4, 7, 7, 3],\n",
              "       [8, 3, 1, 7, 7, 5, 7, 7, 9, 9],\n",
              "       [5, 2, 8, 1, 4, 3, 5, 0, 1, 7],\n",
              "       [5, 3, 5, 5, 0, 7, 1, 3, 1, 2],\n",
              "       [7, 5, 5, 1, 4, 4, 1, 0, 7, 2],\n",
              "       [9, 6, 0, 2, 5, 6, 7, 6, 5, 8],\n",
              "       [7, 6, 9, 1, 8, 2, 8, 2, 5, 6],\n",
              "       [7, 5, 7, 2, 9, 7, 6, 0, 0, 8],\n",
              "       [9, 5, 8, 8, 7, 4, 0, 1, 5, 0],\n",
              "       [4, 1, 5, 6, 1, 0, 5, 1, 2, 7]])"
            ]
          },
          "execution_count": 82,
          "metadata": {},
          "output_type": "execute_result"
        }
      ],
      "source": [
        "arr1"
      ]
    },
    {
      "cell_type": "code",
      "execution_count": 83,
      "metadata": {
        "id": "VbyEOZqQ5sv5"
      },
      "outputs": [
        {
          "data": {
            "text/plain": [
              "array([[1, 8, 5, 5, 7, 9, 7, 7, 9, 4],\n",
              "       [5, 3, 2, 3, 5, 6, 6, 5, 5, 1],\n",
              "       [9, 1, 8, 5, 5, 0, 9, 7, 8, 5],\n",
              "       [8, 7, 1, 5, 1, 2, 1, 2, 8, 6],\n",
              "       [8, 7, 4, 0, 4, 5, 8, 9, 7, 1],\n",
              "       [1, 5, 3, 7, 4, 6, 2, 7, 4, 0],\n",
              "       [4, 7, 5, 1, 1, 7, 8, 6, 0, 5],\n",
              "       [7, 7, 0, 3, 0, 6, 2, 0, 1, 1],\n",
              "       [7, 9, 1, 1, 7, 5, 5, 0, 5, 2],\n",
              "       [3, 9, 7, 2, 2, 8, 6, 8, 0, 7]])"
            ]
          },
          "execution_count": 83,
          "metadata": {},
          "output_type": "execute_result"
        }
      ],
      "source": [
        "arr1.T"
      ]
    },
    {
      "cell_type": "code",
      "execution_count": 84,
      "metadata": {
        "id": "TutW5Qyy5sv7"
      },
      "outputs": [
        {
          "data": {
            "text/plain": [
              "array([[359, 316, 178, 150, 180, 230, 291, 238, 272, 172],\n",
              "       [316, 457, 211, 179, 219, 377, 325, 304, 272, 212],\n",
              "       [178, 211, 194, 117, 140, 193, 245, 246, 172, 148],\n",
              "       [150, 179, 117, 148, 120, 161, 148, 166, 176, 102],\n",
              "       [180, 219, 140, 120, 186, 197, 220, 197, 215, 101],\n",
              "       [230, 377, 193, 161, 197, 356, 294, 290, 217, 166],\n",
              "       [291, 325, 245, 148, 220, 294, 364, 326, 264, 187],\n",
              "       [238, 304, 246, 166, 197, 290, 326, 357, 251, 175],\n",
              "       [272, 272, 172, 176, 215, 217, 264, 251, 325, 147],\n",
              "       [172, 212, 148, 102, 101, 166, 187, 175, 147, 158]])"
            ]
          },
          "execution_count": 84,
          "metadata": {},
          "output_type": "execute_result"
        }
      ],
      "source": [
        "np.dot(arr1,arr1.T) "
      ]
    },
    {
      "cell_type": "markdown",
      "metadata": {
        "id": "DitlygOO5swM"
      },
      "source": [
        "### Mathematical and Statistical Methods\n",
        "\n",
        "- A set of mathematical functions which compute statistics about an entire array or about the data along an axis are accessible as array methods.\n"
      ]
    },
    {
      "cell_type": "markdown",
      "metadata": {
        "id": "_xPMelpI5sv8"
      },
      "source": [
        "\n",
        "Algebric operations\n",
        "\n",
        "```\n",
        "+\tnp.add\tAddition (e.g., 1 + 1 = 2)\n",
        "-\tnp.subtract\tSubtraction (e.g., 3 - 2 = 1)\n",
        "-\tnp.negative\tUnary negation (e.g., -2)\n",
        "*\tnp.multiply\tMultiplication (e.g., 2 * 3 = 6)\n",
        "/\tnp.divide\tDivision (e.g., 3 / 2 = 1.5)\n",
        "//\tnp.floor_divide\tFloor division (e.g., 3 // 2 = 1)\n",
        "**\tnp.power\tExponentiation (e.g., 2 ** 3 = 8)\n",
        "%\tnp.mod\tModulus/remainder (e.g., 9 % 4 = 1)\n",
        "```\n",
        "\n",
        "Trigonometric functions:\n",
        "\n",
        "```\n",
        "sin, cos, tan\tcompute sine, cosine and tangent of angles\n",
        "arcsin, arccos, arctan\tcalculate inverse sine, cosine and tangent\n",
        "hypot\tcalculate hypotenuse of given right triangle\n",
        "sinh, cosh, tanh\tcompute hyperbolic sine, cosine and tangent\n",
        "arcsinh, arccosh, arctanh\tcompute inverse hyperbolic sine, cosine and tangent\n",
        "deg2rad\tconvert degree into radians\n",
        "rad2deg\tconvert radians into degree\n",
        "```\n",
        "\n",
        "Statistical functions:\n",
        "\n",
        "```\n",
        "amin, amax\treturns minimum or maximum of an array or along an axis\n",
        "ptp\treturns range of values (maximum-minimum) of an array or along an axis\n",
        "percentile(a, p, axis)\tcalculate pth percentile of array or along specified axis\n",
        "median\tcompute median of data along specified axis\n",
        "mean\tcompute mean of data along specified axis\n",
        "std\tcompute standard deviation of data along specified axis\n",
        "var\tcompute variance of data along specified axis\n",
        "average\tcompute average of data along specified axis\n",
        "```"
      ]
    },
    {
      "cell_type": "code",
      "execution_count": null,
      "metadata": {
        "id": "KbKxl9tKVpt1"
      },
      "outputs": [],
      "source": [
        "arr1"
      ]
    },
    {
      "cell_type": "code",
      "execution_count": null,
      "metadata": {
        "id": "K45G242FCfI1"
      },
      "outputs": [],
      "source": [
        "np.median(arr1)"
      ]
    },
    {
      "cell_type": "code",
      "execution_count": null,
      "metadata": {
        "id": "yTulXGgo5sv8"
      },
      "outputs": [],
      "source": [
        "np.add(arr1,arr2) #subtract, multiply, divide"
      ]
    },
    {
      "cell_type": "code",
      "execution_count": null,
      "metadata": {
        "id": "b4K6DQ9ACo5W"
      },
      "outputs": [],
      "source": [
        "arr1+arr2"
      ]
    },
    {
      "cell_type": "code",
      "execution_count": null,
      "metadata": {
        "id": "ZzjwL3H75sv9"
      },
      "outputs": [],
      "source": [
        "np.sqrt(arr2)"
      ]
    },
    {
      "cell_type": "code",
      "execution_count": null,
      "metadata": {
        "id": "NcJoMOqv5sv-"
      },
      "outputs": [],
      "source": [
        "np.max(arr1)"
      ]
    },
    {
      "cell_type": "code",
      "execution_count": null,
      "metadata": {
        "id": "KxsZG1ul5swA"
      },
      "outputs": [],
      "source": [
        "arr1"
      ]
    },
    {
      "cell_type": "code",
      "execution_count": null,
      "metadata": {
        "id": "kHPcdGGt5swB"
      },
      "outputs": [],
      "source": [
        "arr2"
      ]
    },
    {
      "cell_type": "code",
      "execution_count": null,
      "metadata": {
        "id": "6N_T6Qgi5swC"
      },
      "outputs": [],
      "source": [
        "np.maximum(arr1, arr2)"
      ]
    },
    {
      "cell_type": "code",
      "execution_count": null,
      "metadata": {
        "id": "oF-K3cwmWVXm"
      },
      "outputs": [],
      "source": [
        "a = np.arange(1,11)\n",
        "b = np.arange(10,20)"
      ]
    },
    {
      "cell_type": "code",
      "execution_count": null,
      "metadata": {
        "id": "5bvDQXsA5swN"
      },
      "outputs": [],
      "source": [
        "a.mean()"
      ]
    },
    {
      "cell_type": "code",
      "execution_count": null,
      "metadata": {
        "id": "9YEJwKls5swP"
      },
      "outputs": [],
      "source": [
        "a.sum()"
      ]
    },
    {
      "cell_type": "code",
      "execution_count": null,
      "metadata": {
        "id": "0dOraxsz5swQ"
      },
      "outputs": [],
      "source": [
        "a.std()"
      ]
    },
    {
      "cell_type": "code",
      "execution_count": null,
      "metadata": {
        "id": "eiMsVTaQ5swR"
      },
      "outputs": [],
      "source": [
        "a.var()"
      ]
    },
    {
      "cell_type": "code",
      "execution_count": null,
      "metadata": {
        "id": "eYH6Q56a5swS"
      },
      "outputs": [],
      "source": [
        "a.cumsum()"
      ]
    },
    {
      "cell_type": "code",
      "execution_count": null,
      "metadata": {
        "id": "FkiaNlCH5swT"
      },
      "outputs": [],
      "source": [
        "b.cumprod()"
      ]
    },
    {
      "cell_type": "markdown",
      "metadata": {
        "id": "MMuJPBF15swE"
      },
      "source": [
        "- np.where returns elements depending on condition"
      ]
    },
    {
      "cell_type": "code",
      "execution_count": null,
      "metadata": {
        "id": "8u7LMIsK5swE"
      },
      "outputs": [],
      "source": [
        "a = np.arange(1,11)"
      ]
    },
    {
      "cell_type": "code",
      "execution_count": null,
      "metadata": {
        "id": "eaAGHo755swF"
      },
      "outputs": [],
      "source": [
        "a"
      ]
    },
    {
      "cell_type": "code",
      "execution_count": null,
      "metadata": {
        "id": "n73DBmDx5swG"
      },
      "outputs": [],
      "source": [
        "np.where(a>5,0,10)"
      ]
    },
    {
      "cell_type": "code",
      "execution_count": null,
      "metadata": {
        "id": "dxYA_32J5swJ"
      },
      "outputs": [],
      "source": [
        "b = np.arange(10,20)"
      ]
    },
    {
      "cell_type": "code",
      "execution_count": null,
      "metadata": {
        "id": "4dq17DSI5swK"
      },
      "outputs": [],
      "source": [
        "b"
      ]
    },
    {
      "cell_type": "code",
      "execution_count": null,
      "metadata": {
        "id": "SASe9Li_5swL"
      },
      "outputs": [],
      "source": [
        "np.where(a%2==1,a,b)"
      ]
    },
    {
      "cell_type": "markdown",
      "metadata": {
        "id": "UCzNEXTS5swU"
      },
      "source": [
        "## Boolean Arrays\n",
        "\n",
        "- Boolean values are coerced to 1 (True) and 0 (False) in the above methods.\n",
        "- Sum is often used as a means of counting True values in a boolean array.\n"
      ]
    },
    {
      "cell_type": "code",
      "execution_count": 3,
      "metadata": {
        "id": "SI3jDNbL5swU"
      },
      "outputs": [],
      "source": [
        "boola = np.random.randint(2, size=100)\n",
        "boola"
      ]
    },
    {
      "cell_type": "code",
      "execution_count": 5,
      "metadata": {
        "id": "-yaWVDTo5swW"
      },
      "outputs": [
        {
          "data": {
            "text/plain": [
              "53"
            ]
          },
          "execution_count": 5,
          "metadata": {},
          "output_type": "execute_result"
        }
      ],
      "source": [
        "boola.sum()"
      ]
    },
    {
      "cell_type": "code",
      "execution_count": 6,
      "metadata": {
        "id": "mIw_sXAG5swZ"
      },
      "outputs": [],
      "source": [
        "bools = np.array([True,True,False,False,True])"
      ]
    },
    {
      "cell_type": "code",
      "execution_count": 7,
      "metadata": {
        "id": "q7U_Ads25swa"
      },
      "outputs": [
        {
          "data": {
            "text/plain": [
              "3"
            ]
          },
          "execution_count": 7,
          "metadata": {},
          "output_type": "execute_result"
        }
      ],
      "source": [
        "bools.sum() #sum only true value"
      ]
    },
    {
      "cell_type": "code",
      "execution_count": 8,
      "metadata": {
        "id": "NGBVHUCc5swb"
      },
      "outputs": [
        {
          "data": {
            "text/plain": [
              "True"
            ]
          },
          "execution_count": 8,
          "metadata": {},
          "output_type": "execute_result"
        }
      ],
      "source": [
        "bools.any() #test whether any array element along a given axis evaluates to True."
      ]
    },
    {
      "cell_type": "code",
      "execution_count": 9,
      "metadata": {
        "id": "X5imyaHW5swc"
      },
      "outputs": [
        {
          "data": {
            "text/plain": [
              "False"
            ]
          },
          "execution_count": 9,
          "metadata": {},
          "output_type": "execute_result"
        }
      ],
      "source": [
        "bools.all() #Test whether all array elements along a given axis evaluate to True."
      ]
    },
    {
      "cell_type": "code",
      "execution_count": 10,
      "metadata": {
        "id": "AZbeRkfk5swe"
      },
      "outputs": [
        {
          "data": {
            "text/plain": [
              "True"
            ]
          },
          "execution_count": 10,
          "metadata": {},
          "output_type": "execute_result"
        }
      ],
      "source": [
        "bools[:2].all()"
      ]
    },
    {
      "cell_type": "markdown",
      "metadata": {
        "id": "8PpBf9z35swg"
      },
      "source": [
        "## Sorting\n",
        "- Like Python’s built-in list type, NumPy arrays can be sorted in-place using the sort method"
      ]
    },
    {
      "cell_type": "code",
      "execution_count": 11,
      "metadata": {
        "id": "1OEKB0QF5swk"
      },
      "outputs": [],
      "source": [
        "arrsort =np.random.randn(4,3)"
      ]
    },
    {
      "cell_type": "code",
      "execution_count": 12,
      "metadata": {
        "id": "0jnOF5Dm5swl"
      },
      "outputs": [
        {
          "data": {
            "text/plain": [
              "array([[-1.08951024, -0.53797983, -0.54997151],\n",
              "       [-0.32239026, -1.23763867,  0.72343896],\n",
              "       [-1.0603797 , -1.15106138,  1.14967534],\n",
              "       [-1.25618524,  0.84402137, -0.60348473]])"
            ]
          },
          "execution_count": 12,
          "metadata": {},
          "output_type": "execute_result"
        }
      ],
      "source": [
        "arrsort"
      ]
    },
    {
      "cell_type": "code",
      "execution_count": 13,
      "metadata": {
        "id": "PzTNRv0l5swm"
      },
      "outputs": [],
      "source": [
        "arrsort.sort(0) #axis along which to sort"
      ]
    },
    {
      "cell_type": "code",
      "execution_count": 14,
      "metadata": {
        "id": "26GggF0Y5swn"
      },
      "outputs": [
        {
          "data": {
            "text/plain": [
              "array([[-1.25618524, -1.23763867, -0.60348473],\n",
              "       [-1.08951024, -1.15106138, -0.54997151],\n",
              "       [-1.0603797 , -0.53797983,  0.72343896],\n",
              "       [-0.32239026,  0.84402137,  1.14967534]])"
            ]
          },
          "execution_count": 14,
          "metadata": {},
          "output_type": "execute_result"
        }
      ],
      "source": [
        "arrsort"
      ]
    },
    {
      "cell_type": "code",
      "execution_count": 15,
      "metadata": {
        "id": "UnSgk3Ox5swo"
      },
      "outputs": [],
      "source": [
        "arrsort.sort(1)"
      ]
    },
    {
      "cell_type": "code",
      "execution_count": 16,
      "metadata": {
        "id": "B9NjXY9F5sws"
      },
      "outputs": [
        {
          "data": {
            "text/plain": [
              "array([[-1.25618524, -1.23763867, -0.60348473],\n",
              "       [-1.15106138, -1.08951024, -0.54997151],\n",
              "       [-1.0603797 , -0.53797983,  0.72343896],\n",
              "       [-0.32239026,  0.84402137,  1.14967534]])"
            ]
          },
          "execution_count": 16,
          "metadata": {},
          "output_type": "execute_result"
        }
      ],
      "source": [
        "arrsort"
      ]
    },
    {
      "cell_type": "markdown",
      "metadata": {
        "id": "3XxfwYkT5swu"
      },
      "source": [
        "### Unique and Other Set Logic\n",
        "\n",
        "- NumPy has some basic set operations for one-dimensional ndarrays."
      ]
    },
    {
      "cell_type": "code",
      "execution_count": null,
      "metadata": {
        "id": "yY6lGgGz5swu"
      },
      "outputs": [],
      "source": [
        "names = np.array(['Bob', 'Joe', 'Will', 'Bob', 'Will', 'Joe', 'Joe'])"
      ]
    },
    {
      "cell_type": "code",
      "execution_count": null,
      "metadata": {
        "id": "SwB_nSG65swv"
      },
      "outputs": [],
      "source": [
        "np.unique(names)"
      ]
    },
    {
      "cell_type": "code",
      "execution_count": null,
      "metadata": {
        "id": "wZ0jF9iU5swx"
      },
      "outputs": [],
      "source": []
    }
  ],
  "metadata": {
    "colab": {
      "collapsed_sections": [
        "HdnHrUkZ5st1",
        "58P_T-TZ5sum",
        "mz79pm9z5su8",
        "5B1fj3EF5svG",
        "O4hMRPpG5svN",
        "BcdwPmji5svR",
        "DitlygOO5swM",
        "UCzNEXTS5swU",
        "8PpBf9z35swg",
        "3XxfwYkT5swu"
      ],
      "provenance": []
    },
    "kernelspec": {
      "display_name": "Python 3",
      "language": "python",
      "name": "python3"
    },
    "language_info": {
      "codemirror_mode": {
        "name": "ipython",
        "version": 3
      },
      "file_extension": ".py",
      "mimetype": "text/x-python",
      "name": "python",
      "nbconvert_exporter": "python",
      "pygments_lexer": "ipython3",
      "version": "3.11.8"
    }
  },
  "nbformat": 4,
  "nbformat_minor": 0
}
